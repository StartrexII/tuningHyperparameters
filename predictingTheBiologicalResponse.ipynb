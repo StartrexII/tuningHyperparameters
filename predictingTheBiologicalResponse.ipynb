{
 "cells": [
  {
   "cell_type": "code",
   "execution_count": 1,
   "metadata": {},
   "outputs": [],
   "source": [
    "import pandas as pd\n",
    "import numpy as np\n",
    "import seaborn as sns\n",
    "\n",
    "import sklearn\n",
    "from sklearn import linear_model\n",
    "from sklearn import ensemble\n",
    "from sklearn import model_selection\n",
    "from sklearn import metrics\n",
    "\n",
    "from hyperopt import hp, fmin, tpe, Trials, space_eval\n",
    "\n",
    "import optuna"
   ]
  },
  {
   "attachments": {},
   "cell_type": "markdown",
   "metadata": {},
   "source": [
    "## Data load"
   ]
  },
  {
   "cell_type": "code",
   "execution_count": 2,
   "metadata": {},
   "outputs": [
    {
     "data": {
      "text/html": [
       "<div>\n",
       "<style scoped>\n",
       "    .dataframe tbody tr th:only-of-type {\n",
       "        vertical-align: middle;\n",
       "    }\n",
       "\n",
       "    .dataframe tbody tr th {\n",
       "        vertical-align: top;\n",
       "    }\n",
       "\n",
       "    .dataframe thead th {\n",
       "        text-align: right;\n",
       "    }\n",
       "</style>\n",
       "<table border=\"1\" class=\"dataframe\">\n",
       "  <thead>\n",
       "    <tr style=\"text-align: right;\">\n",
       "      <th></th>\n",
       "      <th>Activity</th>\n",
       "      <th>D1</th>\n",
       "      <th>D2</th>\n",
       "      <th>D3</th>\n",
       "      <th>D4</th>\n",
       "      <th>D5</th>\n",
       "      <th>D6</th>\n",
       "      <th>D7</th>\n",
       "      <th>D8</th>\n",
       "      <th>D9</th>\n",
       "      <th>...</th>\n",
       "      <th>D1767</th>\n",
       "      <th>D1768</th>\n",
       "      <th>D1769</th>\n",
       "      <th>D1770</th>\n",
       "      <th>D1771</th>\n",
       "      <th>D1772</th>\n",
       "      <th>D1773</th>\n",
       "      <th>D1774</th>\n",
       "      <th>D1775</th>\n",
       "      <th>D1776</th>\n",
       "    </tr>\n",
       "  </thead>\n",
       "  <tbody>\n",
       "    <tr>\n",
       "      <th>0</th>\n",
       "      <td>1</td>\n",
       "      <td>0.000000</td>\n",
       "      <td>0.497009</td>\n",
       "      <td>0.10</td>\n",
       "      <td>0.0</td>\n",
       "      <td>0.132956</td>\n",
       "      <td>0.678031</td>\n",
       "      <td>0.273166</td>\n",
       "      <td>0.585445</td>\n",
       "      <td>0.743663</td>\n",
       "      <td>...</td>\n",
       "      <td>0</td>\n",
       "      <td>0</td>\n",
       "      <td>0</td>\n",
       "      <td>0</td>\n",
       "      <td>0</td>\n",
       "      <td>0</td>\n",
       "      <td>0</td>\n",
       "      <td>0</td>\n",
       "      <td>0</td>\n",
       "      <td>0</td>\n",
       "    </tr>\n",
       "    <tr>\n",
       "      <th>1</th>\n",
       "      <td>1</td>\n",
       "      <td>0.366667</td>\n",
       "      <td>0.606291</td>\n",
       "      <td>0.05</td>\n",
       "      <td>0.0</td>\n",
       "      <td>0.111209</td>\n",
       "      <td>0.803455</td>\n",
       "      <td>0.106105</td>\n",
       "      <td>0.411754</td>\n",
       "      <td>0.836582</td>\n",
       "      <td>...</td>\n",
       "      <td>1</td>\n",
       "      <td>1</td>\n",
       "      <td>1</td>\n",
       "      <td>1</td>\n",
       "      <td>0</td>\n",
       "      <td>1</td>\n",
       "      <td>0</td>\n",
       "      <td>0</td>\n",
       "      <td>1</td>\n",
       "      <td>0</td>\n",
       "    </tr>\n",
       "    <tr>\n",
       "      <th>2</th>\n",
       "      <td>1</td>\n",
       "      <td>0.033300</td>\n",
       "      <td>0.480124</td>\n",
       "      <td>0.00</td>\n",
       "      <td>0.0</td>\n",
       "      <td>0.209791</td>\n",
       "      <td>0.610350</td>\n",
       "      <td>0.356453</td>\n",
       "      <td>0.517720</td>\n",
       "      <td>0.679051</td>\n",
       "      <td>...</td>\n",
       "      <td>0</td>\n",
       "      <td>0</td>\n",
       "      <td>0</td>\n",
       "      <td>0</td>\n",
       "      <td>0</td>\n",
       "      <td>0</td>\n",
       "      <td>0</td>\n",
       "      <td>0</td>\n",
       "      <td>0</td>\n",
       "      <td>0</td>\n",
       "    </tr>\n",
       "    <tr>\n",
       "      <th>3</th>\n",
       "      <td>1</td>\n",
       "      <td>0.000000</td>\n",
       "      <td>0.538825</td>\n",
       "      <td>0.00</td>\n",
       "      <td>0.5</td>\n",
       "      <td>0.196344</td>\n",
       "      <td>0.724230</td>\n",
       "      <td>0.235606</td>\n",
       "      <td>0.288764</td>\n",
       "      <td>0.805110</td>\n",
       "      <td>...</td>\n",
       "      <td>0</td>\n",
       "      <td>0</td>\n",
       "      <td>0</td>\n",
       "      <td>0</td>\n",
       "      <td>0</td>\n",
       "      <td>0</td>\n",
       "      <td>0</td>\n",
       "      <td>0</td>\n",
       "      <td>0</td>\n",
       "      <td>0</td>\n",
       "    </tr>\n",
       "    <tr>\n",
       "      <th>4</th>\n",
       "      <td>0</td>\n",
       "      <td>0.100000</td>\n",
       "      <td>0.517794</td>\n",
       "      <td>0.00</td>\n",
       "      <td>0.0</td>\n",
       "      <td>0.494734</td>\n",
       "      <td>0.781422</td>\n",
       "      <td>0.154361</td>\n",
       "      <td>0.303809</td>\n",
       "      <td>0.812646</td>\n",
       "      <td>...</td>\n",
       "      <td>0</td>\n",
       "      <td>0</td>\n",
       "      <td>0</td>\n",
       "      <td>0</td>\n",
       "      <td>0</td>\n",
       "      <td>0</td>\n",
       "      <td>0</td>\n",
       "      <td>0</td>\n",
       "      <td>0</td>\n",
       "      <td>0</td>\n",
       "    </tr>\n",
       "  </tbody>\n",
       "</table>\n",
       "<p>5 rows × 1777 columns</p>\n",
       "</div>"
      ],
      "text/plain": [
       "   Activity        D1        D2    D3   D4        D5        D6        D7   \n",
       "0         1  0.000000  0.497009  0.10  0.0  0.132956  0.678031  0.273166  \\\n",
       "1         1  0.366667  0.606291  0.05  0.0  0.111209  0.803455  0.106105   \n",
       "2         1  0.033300  0.480124  0.00  0.0  0.209791  0.610350  0.356453   \n",
       "3         1  0.000000  0.538825  0.00  0.5  0.196344  0.724230  0.235606   \n",
       "4         0  0.100000  0.517794  0.00  0.0  0.494734  0.781422  0.154361   \n",
       "\n",
       "         D8        D9  ...  D1767  D1768  D1769  D1770  D1771  D1772  D1773   \n",
       "0  0.585445  0.743663  ...      0      0      0      0      0      0      0  \\\n",
       "1  0.411754  0.836582  ...      1      1      1      1      0      1      0   \n",
       "2  0.517720  0.679051  ...      0      0      0      0      0      0      0   \n",
       "3  0.288764  0.805110  ...      0      0      0      0      0      0      0   \n",
       "4  0.303809  0.812646  ...      0      0      0      0      0      0      0   \n",
       "\n",
       "   D1774  D1775  D1776  \n",
       "0      0      0      0  \n",
       "1      0      1      0  \n",
       "2      0      0      0  \n",
       "3      0      0      0  \n",
       "4      0      0      0  \n",
       "\n",
       "[5 rows x 1777 columns]"
      ]
     },
     "execution_count": 2,
     "metadata": {},
     "output_type": "execute_result"
    }
   ],
   "source": [
    "bioResponseData = pd.read_csv('./data/_train_sem09 (1).csv')\n",
    "\n",
    "bioResponseData.head()"
   ]
  },
  {
   "attachments": {},
   "cell_type": "markdown",
   "metadata": {},
   "source": [
    "## Data research"
   ]
  },
  {
   "cell_type": "code",
   "execution_count": 3,
   "metadata": {},
   "outputs": [
    {
     "name": "stdout",
     "output_type": "stream",
     "text": [
      "Activity\n",
      "1    0.542255\n",
      "0    0.457745\n",
      "Name: proportion, dtype: float64\n"
     ]
    },
    {
     "data": {
      "image/png": "[encoded data removed]",
      "text/plain": [
       "<Figure size 640x480 with 1 Axes>"
      ]
     },
     "metadata": {},
     "output_type": "display_data"
    }
   ],
   "source": [
    "sns.countplot(\n",
    "    data=bioResponseData,\n",
    "    x='Activity'\n",
    ").set(title='Activity distribution')\n",
    "\n",
    "print(bioResponseData['Activity'].value_counts(normalize=True))"
   ]
  },
  {
   "attachments": {},
   "cell_type": "markdown",
   "metadata": {},
   "source": [
    "## Data preparation"
   ]
  },
  {
   "cell_type": "code",
   "execution_count": 4,
   "metadata": {},
   "outputs": [],
   "source": [
    "# Fix seed\n",
    "random_state = 29\n",
    "\n",
    "# Select the target variable\n",
    "X = bioResponseData.drop('Activity', axis=1)\n",
    "y = bioResponseData['Activity']\n",
    "\n",
    "# Split\n",
    "X_train, X_test, y_train, y_test =model_selection.train_test_split(\n",
    "    X,\n",
    "    y,\n",
    "    stratify=y,\n",
    "    test_size=0.2,\n",
    "    random_state=random_state\n",
    ")"
   ]
  },
  {
   "attachments": {},
   "cell_type": "markdown",
   "metadata": {},
   "source": [
    "## Modeling"
   ]
  },
  {
   "attachments": {},
   "cell_type": "markdown",
   "metadata": {},
   "source": [
    "### Default params"
   ]
  },
  {
   "cell_type": "code",
   "execution_count": 5,
   "metadata": {},
   "outputs": [
    {
     "name": "stderr",
     "output_type": "stream",
     "text": [
      "c:\\Python\\Lib\\site-packages\\sklearn\\linear_model\\_logistic.py:458: ConvergenceWarning: lbfgs failed to converge (status=1):\n",
      "STOP: TOTAL NO. of ITERATIONS REACHED LIMIT.\n",
      "\n",
      "Increase the number of iterations (max_iter) or scale the data as shown in:\n",
      "    https://scikit-learn.org/stable/modules/preprocessing.html\n",
      "Please also refer to the documentation for alternative solver options:\n",
      "    https://scikit-learn.org/stable/modules/linear_model.html#logistic-regression\n",
      "  n_iter_i = _check_optimize_result(\n"
     ]
    },
    {
     "name": "stdout",
     "output_type": "stream",
     "text": [
      "F1-score, LogisticRegression trained on default parameters:\n",
      "Train sample: 0.89\n",
      "Test sample: 0.79\n",
      "\n",
      "F1-score, RandomForestClassifier trained on default parameters:\n",
      "Train sample: 1.0\n",
      "Test sample: 0.82\n"
     ]
    }
   ],
   "source": [
    "# LogisticRegression\n",
    "lr_default = linear_model.LogisticRegression(random_state=random_state)\n",
    "\n",
    "lr_default.fit(X_train, y_train)\n",
    "\n",
    "# RandomForestClassifier\n",
    "rf_default = ensemble.RandomForestClassifier(random_state=random_state)\n",
    "\n",
    "rf_default.fit(X_train, y_train)\n",
    "\n",
    "# Metrics\n",
    "print('F1-score, LogisticRegression trained on default parameters:')\n",
    "print('Train sample:', \\\n",
    "    metrics.f1_score(y_train, lr_default.predict(X_train)).round(2))\n",
    "print('Test sample:', \\\n",
    "    metrics.f1_score(y_test, lr_default.predict(X_test)).round(2))\n",
    "\n",
    "print()\n",
    "\n",
    "print('F1-score, RandomForestClassifier trained on default parameters:')\n",
    "print('Train sample:', \\\n",
    "    metrics.f1_score(y_train, rf_default.predict(X_train)).round(2))\n",
    "print('Test sample:', \\\n",
    "    metrics.f1_score(y_test, rf_default.predict(X_test)).round(2))"
   ]
  },
  {
   "attachments": {},
   "cell_type": "markdown",
   "metadata": {},
   "source": [
    "### GridSearchCV"
   ]
  },
  {
   "cell_type": "code",
   "execution_count": 6,
   "metadata": {},
   "outputs": [
    {
     "name": "stdout",
     "output_type": "stream",
     "text": [
      "GridSearchCV best params on LogisticRegression: {'C': 1, 'max_iter': 500, 'penalty': 'l2', 'solver': 'saga'}\n",
      "F1-score, LogisticRegression trained on best GridSearchCV parameters:\n",
      "Train sample: 0.89\n",
      "Test sample: 0.79\n"
     ]
    },
    {
     "name": "stderr",
     "output_type": "stream",
     "text": [
      "c:\\Python\\Lib\\site-packages\\sklearn\\linear_model\\_sag.py:350: ConvergenceWarning: The max_iter was reached which means the coef_ did not converge\n",
      "  warnings.warn(\n"
     ]
    }
   ],
   "source": [
    "# LogisticRegression\n",
    "\n",
    "# Grid of params\n",
    "param_grid_lr = {\n",
    "    'solver': ['saga', 'lbfgs'],\n",
    "    'penalty': ['l2', 'none'],\n",
    "    'C': range(1, 10, 3),\n",
    "    'max_iter': [500, 1000]\n",
    "}\n",
    "\n",
    "# Cross-validator\n",
    "skf = model_selection.StratifiedKFold()\n",
    "\n",
    "# Model\n",
    "lr_gSearch = model_selection.GridSearchCV(\n",
    "    estimator=linear_model.LogisticRegression(random_state=random_state),\n",
    "    param_grid=param_grid_lr,\n",
    "    cv=skf,\n",
    "    n_jobs=-1\n",
    ")\n",
    "\n",
    "# Training\n",
    "lr_gSearch.fit(X_train, y_train)\n",
    "\n",
    "print('GridSearchCV best params on LogisticRegression:', lr_gSearch.best_params_)\n",
    "print('F1-score, LogisticRegression trained on best GridSearchCV parameters:')\n",
    "print('Train sample:', \\\n",
    "    metrics.f1_score(y_train, lr_gSearch.predict(X_train)).round(2))\n",
    "print('Test sample:', \\\n",
    "    metrics.f1_score(y_test, lr_gSearch.predict(X_test)).round(2))"
   ]
  },
  {
   "cell_type": "code",
   "execution_count": 7,
   "metadata": {},
   "outputs": [
    {
     "name": "stdout",
     "output_type": "stream",
     "text": [
      "GridSearchCV best params on RandomForestClassifier: {'max_depth': 20, 'min_samples_leaf': 5, 'n_estimators': 100}\n",
      "F1-score, RandomForestClassifier trained best GridSearchCV parameters:\n",
      "Train sample: 0.94\n",
      "Test sample: 0.81\n"
     ]
    }
   ],
   "source": [
    "# RandomForestClassifier\n",
    "\n",
    "# Grid of params\n",
    "param_grid_rf = {\n",
    "    'n_estimators': range(100, 201, 30),\n",
    "    'min_samples_leaf': [5, 7, 9],\n",
    "    'max_depth': range(5, 26, 5)\n",
    "}\n",
    "\n",
    "# Model\n",
    "rf_gSearch = model_selection.GridSearchCV(\n",
    "    estimator=ensemble.RandomForestClassifier(random_state=random_state),\n",
    "    param_grid=param_grid_rf,\n",
    "    cv=skf,\n",
    "    n_jobs=-1\n",
    ")\n",
    "\n",
    "# Training\n",
    "rf_gSearch.fit(X_train, y_train)\n",
    "\n",
    "print('GridSearchCV best params on RandomForestClassifier:', rf_gSearch.best_params_)\n",
    "print('F1-score, RandomForestClassifier trained best GridSearchCV parameters:')\n",
    "print('Train sample:', \\\n",
    "    metrics.f1_score(y_train, rf_gSearch.predict(X_train)).round(2))\n",
    "print('Test sample:', \\\n",
    "    metrics.f1_score(y_test, rf_gSearch.predict(X_test)).round(2))"
   ]
  },
  {
   "attachments": {},
   "cell_type": "markdown",
   "metadata": {},
   "source": [
    "### RandomizedSearchCV"
   ]
  },
  {
   "cell_type": "code",
   "execution_count": 8,
   "metadata": {},
   "outputs": [
    {
     "name": "stdout",
     "output_type": "stream",
     "text": [
      "RandomizedSearchCV best params on LogisticRegression: {'solver': 'saga', 'penalty': 'l2', 'max_iter': 1000, 'C': 1}\n",
      "F1-score, LogisticRegression trained on best RandomizedSearchCV parameters:\n",
      "Train sample: 0.89\n",
      "Test sample: 0.79\n"
     ]
    }
   ],
   "source": [
    "# LogisticRegression\n",
    "\n",
    "# Model\n",
    "lr_rSearch = model_selection.RandomizedSearchCV(\n",
    "    estimator=linear_model.LogisticRegression(random_state=random_state),\n",
    "    param_distributions=param_grid_lr,\n",
    "    cv=skf,\n",
    "    n_iter=10,\n",
    "    n_jobs=-1,\n",
    "    random_state=random_state\n",
    ")\n",
    "\n",
    "#Training\n",
    "lr_rSearch.fit(X_train, y_train)\n",
    "\n",
    "print('RandomizedSearchCV best params on LogisticRegression:', lr_rSearch.best_params_)\n",
    "print('F1-score, LogisticRegression trained on best RandomizedSearchCV parameters:')\n",
    "print('Train sample:', \\\n",
    "    metrics.f1_score(y_train, lr_rSearch.predict(X_train)).round(2))\n",
    "print('Test sample:', \\\n",
    "    metrics.f1_score(y_test, lr_rSearch.predict(X_test)).round(2))"
   ]
  },
  {
   "cell_type": "code",
   "execution_count": 9,
   "metadata": {},
   "outputs": [
    {
     "name": "stdout",
     "output_type": "stream",
     "text": [
      "RandomizedSearchCV best params on RandomForestClassifier: {'n_estimators': 160, 'min_samples_leaf': 5, 'max_depth': 20}\n",
      "F1-score, RandomForestClassifier trained best RandomizedSearchCV parameters:\n",
      "Train sample: 0.94\n",
      "Test sample: 0.81\n"
     ]
    }
   ],
   "source": [
    "# RandomForestClassifier\n",
    "\n",
    "# Model\n",
    "rf_rSearch = model_selection.RandomizedSearchCV(\n",
    "    estimator=ensemble.RandomForestClassifier(random_state=random_state),\n",
    "    param_distributions=param_grid_rf,\n",
    "    cv=skf,\n",
    "    n_iter=10,\n",
    "    n_jobs=-1,\n",
    "    random_state=random_state\n",
    ")\n",
    "\n",
    "# Training\n",
    "rf_rSearch.fit(X_train, y_train)\n",
    "\n",
    "# Prediction\n",
    "y_pred_rf_rSearch = rf_rSearch.predict(X_test)\n",
    "\n",
    "print('RandomizedSearchCV best params on RandomForestClassifier:', rf_rSearch.best_params_)\n",
    "print('F1-score, RandomForestClassifier trained best RandomizedSearchCV parameters:')\n",
    "print('Train sample:', \\\n",
    "    metrics.f1_score(y_train, rf_rSearch.predict(X_train)).round(2))\n",
    "print('Test sample:', \\\n",
    "    metrics.f1_score(y_test, rf_rSearch.predict(X_test)).round(2))"
   ]
  },
  {
   "attachments": {},
   "cell_type": "markdown",
   "metadata": {},
   "source": [
    "### Hyperopt"
   ]
  },
  {
   "cell_type": "code",
   "execution_count": 10,
   "metadata": {},
   "outputs": [
    {
     "name": "stdout",
     "output_type": "stream",
     "text": [
      "100%|██████████| 10/10 [05:21<00:00, 32.17s/trial, best loss: -0.7787167707858366]\n",
      "Hyperopt best params on LogisticRegression: {'C': 0.2850236437426646, 'max_iter': 500, 'penalty': 'l2', 'solver': 'newton-cg'}\n",
      "F1-score, LogisticRegression trained on best Hyperopt parameters:\n",
      "Train sample: 0.87\n",
      "Test sample: 0.8\n"
     ]
    }
   ],
   "source": [
    "# LogisticRegression\n",
    "\n",
    "# Space of params\n",
    "space_lr = {\n",
    "    'solver': hp.choice('solver', ['lbfgs', 'saga', 'newton-cg']),\n",
    "    'max_iter': hp.choice('max_iter', [500, 700, 1000]),\n",
    "    'penalty': hp.choice('penalty', ['l2', 'none']),\n",
    "    'C' : hp.uniform('C', 0.05, 3)\n",
    "}\n",
    "   \n",
    "\n",
    "def hyperopt_lr(params: dict, cv: sklearn.model_selection.BaseCrossValidator=skf,\n",
    "                X: np.ndarray | pd.DataFrame=X_train, y: np.ndarray | pd.DataFrame=y_train,\n",
    "                random_state: int=random_state) -> float:\n",
    "    \"\"\"Function fit LogisticRegression with set params\n",
    "    and return -f1-score on cross-validation\n",
    "\n",
    "    Args:\n",
    "        params (dict): Hyperparameters.\n",
    "        cv (sklearn.model_selection.BaseCrossValidator, optional): Cross-validator. Defaults to StratifiedKFold.\n",
    "        X (np.ndarray | pd.DataFrame, optional): Train data. Defaults to X_train.\n",
    "        y (np.ndarray | pd.DataFrame, optional): Train target. Defaults to y_train.\n",
    "        random_state (int, optional): Seed. Defaults to random_state.\n",
    "\n",
    "    Returns:\n",
    "        float: -f1-score\n",
    "    \"\"\"\n",
    "    \n",
    "    # Preparing model\n",
    "    model = linear_model.LogisticRegression(**params, random_state=random_state)\n",
    "    \n",
    "    # Get f1-score using cross-validation\n",
    "    score = model_selection.cross_val_score(\n",
    "        model,\n",
    "        X,\n",
    "        y,\n",
    "        cv=cv,\n",
    "        scoring='f1',\n",
    "        n_jobs=-1\n",
    "    ).mean()\n",
    "    \n",
    "    return -score\n",
    "\n",
    "\n",
    "# Tuning\n",
    "\n",
    "trials = Trials()\n",
    "\n",
    "# Best params\n",
    "best = fmin(\n",
    "    fn=hyperopt_lr,\n",
    "    space=space_lr,\n",
    "    algo=tpe.suggest,\n",
    "    trials=trials,\n",
    "    max_evals=10,\n",
    "    rstate=np.random.default_rng(random_state)\n",
    ")\n",
    "\n",
    "# Fitting model on best params\n",
    "lr_hyperopt = linear_model.LogisticRegression(**space_eval(space_lr, best), random_state=random_state)\n",
    "\n",
    "lr_hyperopt.fit(X_train, y_train)\n",
    "\n",
    "print('Hyperopt best params on LogisticRegression:', space_eval(space_lr, best))\n",
    "print('F1-score, LogisticRegression trained on best Hyperopt parameters:')\n",
    "print('Train sample:', \\\n",
    "    metrics.f1_score(y_train, lr_hyperopt.predict(X_train)).round(2))\n",
    "print('Test sample:', \\\n",
    "    metrics.f1_score(y_test, lr_hyperopt.predict(X_test)).round(2))"
   ]
  },
  {
   "cell_type": "code",
   "execution_count": 11,
   "metadata": {},
   "outputs": [
    {
     "name": "stdout",
     "output_type": "stream",
     "text": [
      "100%|██████████| 20/20 [01:01<00:00,  3.09s/trial, best loss: -0.8015434037400835]\n",
      "Hyperopt best params on RandomForestClassifier: {'max_depth': 15, 'min_samples_leaf': 8, 'n_estimators': 240}\n",
      "F1-score, RandomForestClassifier trained on best Hyperopt parameters:\n",
      "Train sample: 0.91\n",
      "Test sample: 0.81\n"
     ]
    }
   ],
   "source": [
    "# RandomForestClassifier\n",
    "\n",
    "# Space of params\n",
    "space_rf = {\n",
    "    'n_estimators': hp.quniform('n_estimators', 100, 300, 10),\n",
    "    'max_depth': hp.quniform('max_depth', 5, 21, 1),\n",
    "    'min_samples_leaf': hp.quniform('min_samples_leaf', 3, 10, 1)\n",
    "}\n",
    "\n",
    "def hyperopt_rf(params: dict, cv: sklearn.model_selection.BaseCrossValidator=skf,\n",
    "                X: np.ndarray | pd.DataFrame=X_train, y: np.ndarray | pd.DataFrame=y_train,\n",
    "                random_state: int=random_state) -> float:\n",
    "    \"\"\"Function fit RandomForestClassifier with set params\n",
    "    and return -f1-score on cross-validation\n",
    "\n",
    "    Args:\n",
    "        params (dict): Hyperparameters.\n",
    "        cv (sklearn.model_selection.BaseCrossValidator, optional): Cross-validator. Defaults to StratifiedKFold.\n",
    "        X (np.ndarray | pd.DataFrame, optional): Train data. Defaults to X_train.\n",
    "        y (np.ndarray | pd.DataFrame, optional): Train target. Defaults to y_train.\n",
    "        random_state (int, optional): Seed. Defaults to random_state.\n",
    "\n",
    "    Returns:\n",
    "        float: -f1-score\n",
    "    \"\"\"\n",
    "    params = {param: int(params[param]) for param in params}\n",
    "    \n",
    "    # Preparing model\n",
    "    model = ensemble.RandomForestClassifier(**params, random_state=random_state)\n",
    "    \n",
    "    # Get f1-score using cross-validation\n",
    "    score = model_selection.cross_val_score(\n",
    "        model,\n",
    "        X,\n",
    "        y,\n",
    "        cv=cv,\n",
    "        scoring='f1',\n",
    "        n_jobs=-1\n",
    "    ).mean()\n",
    "    \n",
    "    return -score\n",
    "\n",
    "# Tuning\n",
    "\n",
    "trials = Trials()\n",
    "\n",
    "# Best params\n",
    "best = fmin(\n",
    "    fn=hyperopt_rf,\n",
    "    space=space_rf,\n",
    "    algo=tpe.suggest,\n",
    "    trials=trials,\n",
    "    max_evals=20,\n",
    "    rstate=np.random.default_rng(random_state)\n",
    ")\n",
    "\n",
    "# Type conversion\n",
    "params = space_eval(space_rf, best)\n",
    "best = {param: int(params[param]) for param in params}\n",
    "\n",
    "# Fitting model on best params\n",
    "rf_hyperopt = ensemble.RandomForestClassifier(**best, random_state=random_state)\n",
    "\n",
    "rf_hyperopt.fit(X_train, y_train)\n",
    "\n",
    "print('Hyperopt best params on RandomForestClassifier:', best)\n",
    "print('F1-score, RandomForestClassifier trained on best Hyperopt parameters:')\n",
    "print('Train sample:', \\\n",
    "    metrics.f1_score(y_train, rf_hyperopt.predict(X_train)).round(2))\n",
    "print('Test sample:', \\\n",
    "    metrics.f1_score(y_test, rf_hyperopt.predict(X_test)).round(2))"
   ]
  },
  {
   "attachments": {},
   "cell_type": "markdown",
   "metadata": {},
   "source": [
    "### Optuna"
   ]
  },
  {
   "cell_type": "code",
   "execution_count": 13,
   "metadata": {},
   "outputs": [
    {
     "name": "stderr",
     "output_type": "stream",
     "text": [
      "[I 2023-07-23 19:42:52,123] A new study created in memory with name: LogisticRegression\n",
      "[I 2023-07-23 19:43:55,294] Trial 1 finished with value: 0.7471393601241558 and parameters: {'solver': 'lbfgs', 'penalty': 'none', 'max_iter': 100, 'C': 1.7000000000000002}. Best is trial 1 with value: 0.7471393601241558.\n",
      "[I 2023-07-23 19:43:59,534] Trial 2 finished with value: 0.7103939503905878 and parameters: {'solver': 'lbfgs', 'penalty': 'none', 'max_iter': 800, 'C': 1.7000000000000002}. Best is trial 1 with value: 0.7471393601241558.\n",
      "[I 2023-07-23 19:44:18,870] Trial 3 finished with value: 0.773964231588044 and parameters: {'solver': 'saga', 'penalty': 'l2', 'max_iter': 700, 'C': 0.7000000000000001}. Best is trial 3 with value: 0.773964231588044.\n",
      "[I 2023-07-23 19:44:34,191] Trial 0 finished with value: 0.7704332663602563 and parameters: {'solver': 'lbfgs', 'penalty': 'l2', 'max_iter': 100, 'C': 1.2000000000000002}. Best is trial 3 with value: 0.773964231588044.\n",
      "[I 2023-07-23 19:44:34,797] Trial 5 finished with value: 0.7180022459926537 and parameters: {'solver': 'lbfgs', 'penalty': 'none', 'max_iter': 600, 'C': 2.0}. Best is trial 3 with value: 0.773964231588044.\n",
      "[I 2023-07-23 19:45:20,868] Trial 4 finished with value: 0.7587068201550855 and parameters: {'solver': 'saga', 'penalty': 'none', 'max_iter': 700, 'C': 2.0}. Best is trial 3 with value: 0.773964231588044.\n",
      "[I 2023-07-23 19:45:33,878] Trial 7 finished with value: 0.7693553847804255 and parameters: {'solver': 'saga', 'penalty': 'l2', 'max_iter': 700, 'C': 2.0}. Best is trial 3 with value: 0.773964231588044.\n",
      "[I 2023-07-23 19:45:37,380] Trial 8 finished with value: 0.7594935517776231 and parameters: {'solver': 'saga', 'penalty': 'none', 'max_iter': 800, 'C': 0.6}. Best is trial 3 with value: 0.773964231588044.\n",
      "[I 2023-07-23 19:45:40,182] Trial 6 finished with value: 0.774104959711383 and parameters: {'solver': 'saga', 'penalty': 'l2', 'max_iter': 500, 'C': 0.7000000000000001}. Best is trial 6 with value: 0.774104959711383.\n",
      "[I 2023-07-23 19:45:44,942] Trial 9 finished with value: 0.6951440001347131 and parameters: {'solver': 'newton-cg', 'penalty': 'none', 'max_iter': 200, 'C': 2.0}. Best is trial 6 with value: 0.774104959711383.\n"
     ]
    },
    {
     "name": "stdout",
     "output_type": "stream",
     "text": [
      "Optuna best params on LogisticRegression: {'solver': 'saga', 'penalty': 'l2', 'max_iter': 500, 'C': 0.7000000000000001}\n",
      "F1-score, LogisticRegression trained on best Optuna parameters:\n",
      "Train sample: 0.88\n",
      "Test sample: 0.8\n"
     ]
    },
    {
     "name": "stderr",
     "output_type": "stream",
     "text": [
      "c:\\Python\\Lib\\site-packages\\sklearn\\linear_model\\_sag.py:350: ConvergenceWarning: The max_iter was reached which means the coef_ did not converge\n",
      "  warnings.warn(\n"
     ]
    }
   ],
   "source": [
    "# LogisticRegression\n",
    "\n",
    "def optuna_lr(trial: optuna.trial.Trial) -> float:\n",
    "    \"\"\"Function fit LogisticRegression with set params\n",
    "    and return f1-score on cross-validation\n",
    "\n",
    "    Args:\n",
    "        trial (optuna.trial.Trial): A trial is a process of evaluating an objective function\n",
    "\n",
    "    Returns:\n",
    "        float: f1-score\n",
    "    \"\"\"\n",
    "    # Params\n",
    "    solver = trial.suggest_categorical('solver', ['saga', 'lbfgs', 'newton-cg'])\n",
    "    penalty = trial.suggest_categorical('penalty', ['l2', 'none'])\n",
    "    max_iter = trial.suggest_int('max_iter', 100, 1000, step=100)\n",
    "    C = trial.suggest_float('C', 0.1 , 3, step=0.1)\n",
    "    \n",
    "    model = linear_model.LogisticRegression(\n",
    "        solver=solver,\n",
    "        max_iter=max_iter,\n",
    "        penalty=penalty,\n",
    "        C=C,\n",
    "        random_state=random_state\n",
    "    )\n",
    "    \n",
    "    score = model_selection.cross_val_score(\n",
    "        model,\n",
    "        X_train,\n",
    "        y_train,\n",
    "        cv=skf,\n",
    "        scoring='f1',\n",
    "        n_jobs=-1\n",
    "    )\n",
    "    \n",
    "    return score.mean()\n",
    "\n",
    "\n",
    "# Tuning\n",
    "study_lr = optuna.create_study(study_name='LogisticRegression', direction='maximize')\n",
    "study_lr.optimize(optuna_lr, n_trials=10, n_jobs=-1)\n",
    "\n",
    "# Modeling\n",
    "lr_optuna = linear_model.LogisticRegression(**study_lr.best_params, random_state=random_state)\n",
    "\n",
    "lr_optuna.fit(X_train, y_train)\n",
    "\n",
    "print('Optuna best params on LogisticRegression:', study_lr.best_params)\n",
    "print('F1-score, LogisticRegression trained on best Optuna parameters:')\n",
    "print('Train sample:', \\\n",
    "    metrics.f1_score(y_train, lr_optuna.predict(X_train)).round(2))\n",
    "print('Test sample:', \\\n",
    "    metrics.f1_score(y_test, lr_optuna.predict(X_test)).round(2))"
   ]
  },
  {
   "cell_type": "code",
   "execution_count": 21,
   "metadata": {},
   "outputs": [
    {
     "data": {
      "application/vnd.plotly.v1+json": {
       "config": {
        "plotlyServerURL": "https://plot.ly"
       },
       "data": [
        {
         "cliponaxis": false,
         "hovertemplate": [
          "max_iter (IntDistribution): 0.03940481438949859<extra></extra>",
          "C (FloatDistribution): 0.1317626303250093<extra></extra>",
          "penalty (CategoricalDistribution): 0.21142850521408224<extra></extra>",
          "solver (CategoricalDistribution): 0.61740405007141<extra></extra>"
         ],
         "marker": {
          "color": "rgb(66,146,198)"
         },
         "orientation": "h",
         "text": [
          "0.04",
          "0.13",
          "0.21",
          "0.62"
         ],
         "textposition": "outside",
         "type": "bar",
         "x": [
          0.03940481438949859,
          0.1317626303250093,
          0.21142850521408224,
          0.61740405007141
         ],
         "y": [
          "max_iter",
          "C",
          "penalty",
          "solver"
         ]
        }
       ],
       "layout": {
        "showlegend": false,
        "template": {
         "data": {
          "bar": [
           {
            "error_x": {
             "color": "#2a3f5f"
            },
            "error_y": {
             "color": "#2a3f5f"
            },
            "marker": {
             "line": {
              "color": "#E5ECF6",
              "width": 0.5
             },
             "pattern": {
              "fillmode": "overlay",
              "size": 10,
              "solidity": 0.2
             }
            },
            "type": "bar"
           }
          ],
          "barpolar": [
           {
            "marker": {
             "line": {
              "color": "#E5ECF6",
              "width": 0.5
             },
             "pattern": {
              "fillmode": "overlay",
              "size": 10,
              "solidity": 0.2
             }
            },
            "type": "barpolar"
           }
          ],
          "carpet": [
           {
            "aaxis": {
             "endlinecolor": "#2a3f5f",
             "gridcolor": "white",
             "linecolor": "white",
             "minorgridcolor": "white",
             "startlinecolor": "#2a3f5f"
            },
            "baxis": {
             "endlinecolor": "#2a3f5f",
             "gridcolor": "white",
             "linecolor": "white",
             "minorgridcolor": "white",
             "startlinecolor": "#2a3f5f"
            },
            "type": "carpet"
           }
          ],
          "choropleth": [
           {
            "colorbar": {
             "outlinewidth": 0,
             "ticks": ""
            },
            "type": "choropleth"
           }
          ],
          "contour": [
           {
            "colorbar": {
             "outlinewidth": 0,
             "ticks": ""
            },
            "colorscale": [
             [
              0,
              "#0d0887"
             ],
             [
              0.1111111111111111,
              "#46039f"
             ],
             [
              0.2222222222222222,
              "#7201a8"
             ],
             [
              0.3333333333333333,
              "#9c179e"
             ],
             [
              0.4444444444444444,
              "#bd3786"
             ],
             [
              0.5555555555555556,
              "#d8576b"
             ],
             [
              0.6666666666666666,
              "#ed7953"
             ],
             [
              0.7777777777777778,
              "#fb9f3a"
             ],
             [
              0.8888888888888888,
              "#fdca26"
             ],
             [
              1,
              "#f0f921"
             ]
            ],
            "type": "contour"
           }
          ],
          "contourcarpet": [
           {
            "colorbar": {
             "outlinewidth": 0,
             "ticks": ""
            },
            "type": "contourcarpet"
           }
          ],
          "heatmap": [
           {
            "colorbar": {
             "outlinewidth": 0,
             "ticks": ""
            },
            "colorscale": [
             [
              0,
              "#0d0887"
             ],
             [
              0.1111111111111111,
              "#46039f"
             ],
             [
              0.2222222222222222,
              "#7201a8"
             ],
             [
              0.3333333333333333,
              "#9c179e"
             ],
             [
              0.4444444444444444,
              "#bd3786"
             ],
             [
              0.5555555555555556,
              "#d8576b"
             ],
             [
              0.6666666666666666,
              "#ed7953"
             ],
             [
              0.7777777777777778,
              "#fb9f3a"
             ],
             [
              0.8888888888888888,
              "#fdca26"
             ],
             [
              1,
              "#f0f921"
             ]
            ],
            "type": "heatmap"
           }
          ],
          "heatmapgl": [
           {
            "colorbar": {
             "outlinewidth": 0,
             "ticks": ""
            },
            "colorscale": [
             [
              0,
              "#0d0887"
             ],
             [
              0.1111111111111111,
              "#46039f"
             ],
             [
              0.2222222222222222,
              "#7201a8"
             ],
             [
              0.3333333333333333,
              "#9c179e"
             ],
             [
              0.4444444444444444,
              "#bd3786"
             ],
             [
              0.5555555555555556,
              "#d8576b"
             ],
             [
              0.6666666666666666,
              "#ed7953"
             ],
             [
              0.7777777777777778,
              "#fb9f3a"
             ],
             [
              0.8888888888888888,
              "#fdca26"
             ],
             [
              1,
              "#f0f921"
             ]
            ],
            "type": "heatmapgl"
           }
          ],
          "histogram": [
           {
            "marker": {
             "pattern": {
              "fillmode": "overlay",
              "size": 10,
              "solidity": 0.2
             }
            },
            "type": "histogram"
           }
          ],
          "histogram2d": [
           {
            "colorbar": {
             "outlinewidth": 0,
             "ticks": ""
            },
            "colorscale": [
             [
              0,
              "#0d0887"
             ],
             [
              0.1111111111111111,
              "#46039f"
             ],
             [
              0.2222222222222222,
              "#7201a8"
             ],
             [
              0.3333333333333333,
              "#9c179e"
             ],
             [
              0.4444444444444444,
              "#bd3786"
             ],
             [
              0.5555555555555556,
              "#d8576b"
             ],
             [
              0.6666666666666666,
              "#ed7953"
             ],
             [
              0.7777777777777778,
              "#fb9f3a"
             ],
             [
              0.8888888888888888,
              "#fdca26"
             ],
             [
              1,
              "#f0f921"
             ]
            ],
            "type": "histogram2d"
           }
          ],
          "histogram2dcontour": [
           {
            "colorbar": {
             "outlinewidth": 0,
             "ticks": ""
            },
            "colorscale": [
             [
              0,
              "#0d0887"
             ],
             [
              0.1111111111111111,
              "#46039f"
             ],
             [
              0.2222222222222222,
              "#7201a8"
             ],
             [
              0.3333333333333333,
              "#9c179e"
             ],
             [
              0.4444444444444444,
              "#bd3786"
             ],
             [
              0.5555555555555556,
              "#d8576b"
             ],
             [
              0.6666666666666666,
              "#ed7953"
             ],
             [
              0.7777777777777778,
              "#fb9f3a"
             ],
             [
              0.8888888888888888,
              "#fdca26"
             ],
             [
              1,
              "#f0f921"
             ]
            ],
            "type": "histogram2dcontour"
           }
          ],
          "mesh3d": [
           {
            "colorbar": {
             "outlinewidth": 0,
             "ticks": ""
            },
            "type": "mesh3d"
           }
          ],
          "parcoords": [
           {
            "line": {
             "colorbar": {
              "outlinewidth": 0,
              "ticks": ""
             }
            },
            "type": "parcoords"
           }
          ],
          "pie": [
           {
            "automargin": true,
            "type": "pie"
           }
          ],
          "scatter": [
           {
            "fillpattern": {
             "fillmode": "overlay",
             "size": 10,
             "solidity": 0.2
            },
            "type": "scatter"
           }
          ],
          "scatter3d": [
           {
            "line": {
             "colorbar": {
              "outlinewidth": 0,
              "ticks": ""
             }
            },
            "marker": {
             "colorbar": {
              "outlinewidth": 0,
              "ticks": ""
             }
            },
            "type": "scatter3d"
           }
          ],
          "scattercarpet": [
           {
            "marker": {
             "colorbar": {
              "outlinewidth": 0,
              "ticks": ""
             }
            },
            "type": "scattercarpet"
           }
          ],
          "scattergeo": [
           {
            "marker": {
             "colorbar": {
              "outlinewidth": 0,
              "ticks": ""
             }
            },
            "type": "scattergeo"
           }
          ],
          "scattergl": [
           {
            "marker": {
             "colorbar": {
              "outlinewidth": 0,
              "ticks": ""
             }
            },
            "type": "scattergl"
           }
          ],
          "scattermapbox": [
           {
            "marker": {
             "colorbar": {
              "outlinewidth": 0,
              "ticks": ""
             }
            },
            "type": "scattermapbox"
           }
          ],
          "scatterpolar": [
           {
            "marker": {
             "colorbar": {
              "outlinewidth": 0,
              "ticks": ""
             }
            },
            "type": "scatterpolar"
           }
          ],
          "scatterpolargl": [
           {
            "marker": {
             "colorbar": {
              "outlinewidth": 0,
              "ticks": ""
             }
            },
            "type": "scatterpolargl"
           }
          ],
          "scatterternary": [
           {
            "marker": {
             "colorbar": {
              "outlinewidth": 0,
              "ticks": ""
             }
            },
            "type": "scatterternary"
           }
          ],
          "surface": [
           {
            "colorbar": {
             "outlinewidth": 0,
             "ticks": ""
            },
            "colorscale": [
             [
              0,
              "#0d0887"
             ],
             [
              0.1111111111111111,
              "#46039f"
             ],
             [
              0.2222222222222222,
              "#7201a8"
             ],
             [
              0.3333333333333333,
              "#9c179e"
             ],
             [
              0.4444444444444444,
              "#bd3786"
             ],
             [
              0.5555555555555556,
              "#d8576b"
             ],
             [
              0.6666666666666666,
              "#ed7953"
             ],
             [
              0.7777777777777778,
              "#fb9f3a"
             ],
             [
              0.8888888888888888,
              "#fdca26"
             ],
             [
              1,
              "#f0f921"
             ]
            ],
            "type": "surface"
           }
          ],
          "table": [
           {
            "cells": {
             "fill": {
              "color": "#EBF0F8"
             },
             "line": {
              "color": "white"
             }
            },
            "header": {
             "fill": {
              "color": "#C8D4E3"
             },
             "line": {
              "color": "white"
             }
            },
            "type": "table"
           }
          ]
         },
         "layout": {
          "annotationdefaults": {
           "arrowcolor": "#2a3f5f",
           "arrowhead": 0,
           "arrowwidth": 1
          },
          "autotypenumbers": "strict",
          "coloraxis": {
           "colorbar": {
            "outlinewidth": 0,
            "ticks": ""
           }
          },
          "colorscale": {
           "diverging": [
            [
             0,
             "#8e0152"
            ],
            [
             0.1,
             "#c51b7d"
            ],
            [
             0.2,
             "#de77ae"
            ],
            [
             0.3,
             "#f1b6da"
            ],
            [
             0.4,
             "#fde0ef"
            ],
            [
             0.5,
             "#f7f7f7"
            ],
            [
             0.6,
             "#e6f5d0"
            ],
            [
             0.7,
             "#b8e186"
            ],
            [
             0.8,
             "#7fbc41"
            ],
            [
             0.9,
             "#4d9221"
            ],
            [
             1,
             "#276419"
            ]
           ],
           "sequential": [
            [
             0,
             "#0d0887"
            ],
            [
             0.1111111111111111,
             "#46039f"
            ],
            [
             0.2222222222222222,
             "#7201a8"
            ],
            [
             0.3333333333333333,
             "#9c179e"
            ],
            [
             0.4444444444444444,
             "#bd3786"
            ],
            [
             0.5555555555555556,
             "#d8576b"
            ],
            [
             0.6666666666666666,
             "#ed7953"
            ],
            [
             0.7777777777777778,
             "#fb9f3a"
            ],
            [
             0.8888888888888888,
             "#fdca26"
            ],
            [
             1,
             "#f0f921"
            ]
           ],
           "sequentialminus": [
            [
             0,
             "#0d0887"
            ],
            [
             0.1111111111111111,
             "#46039f"
            ],
            [
             0.2222222222222222,
             "#7201a8"
            ],
            [
             0.3333333333333333,
             "#9c179e"
            ],
            [
             0.4444444444444444,
             "#bd3786"
            ],
            [
             0.5555555555555556,
             "#d8576b"
            ],
            [
             0.6666666666666666,
             "#ed7953"
            ],
            [
             0.7777777777777778,
             "#fb9f3a"
            ],
            [
             0.8888888888888888,
             "#fdca26"
            ],
            [
             1,
             "#f0f921"
            ]
           ]
          },
          "colorway": [
           "#636efa",
           "#EF553B",
           "#00cc96",
           "#ab63fa",
           "#FFA15A",
           "#19d3f3",
           "#FF6692",
           "#B6E880",
           "#FF97FF",
           "#FECB52"
          ],
          "font": {
           "color": "#2a3f5f"
          },
          "geo": {
           "bgcolor": "white",
           "lakecolor": "white",
           "landcolor": "#E5ECF6",
           "showlakes": true,
           "showland": true,
           "subunitcolor": "white"
          },
          "hoverlabel": {
           "align": "left"
          },
          "hovermode": "closest",
          "mapbox": {
           "style": "light"
          },
          "paper_bgcolor": "white",
          "plot_bgcolor": "#E5ECF6",
          "polar": {
           "angularaxis": {
            "gridcolor": "white",
            "linecolor": "white",
            "ticks": ""
           },
           "bgcolor": "#E5ECF6",
           "radialaxis": {
            "gridcolor": "white",
            "linecolor": "white",
            "ticks": ""
           }
          },
          "scene": {
           "xaxis": {
            "backgroundcolor": "#E5ECF6",
            "gridcolor": "white",
            "gridwidth": 2,
            "linecolor": "white",
            "showbackground": true,
            "ticks": "",
            "zerolinecolor": "white"
           },
           "yaxis": {
            "backgroundcolor": "#E5ECF6",
            "gridcolor": "white",
            "gridwidth": 2,
            "linecolor": "white",
            "showbackground": true,
            "ticks": "",
            "zerolinecolor": "white"
           },
           "zaxis": {
            "backgroundcolor": "#E5ECF6",
            "gridcolor": "white",
            "gridwidth": 2,
            "linecolor": "white",
            "showbackground": true,
            "ticks": "",
            "zerolinecolor": "white"
           }
          },
          "shapedefaults": {
           "line": {
            "color": "#2a3f5f"
           }
          },
          "ternary": {
           "aaxis": {
            "gridcolor": "white",
            "linecolor": "white",
            "ticks": ""
           },
           "baxis": {
            "gridcolor": "white",
            "linecolor": "white",
            "ticks": ""
           },
           "bgcolor": "#E5ECF6",
           "caxis": {
            "gridcolor": "white",
            "linecolor": "white",
            "ticks": ""
           }
          },
          "title": {
           "x": 0.05
          },
          "xaxis": {
           "automargin": true,
           "gridcolor": "white",
           "linecolor": "white",
           "ticks": "",
           "title": {
            "standoff": 15
           },
           "zerolinecolor": "white",
           "zerolinewidth": 2
          },
          "yaxis": {
           "automargin": true,
           "gridcolor": "white",
           "linecolor": "white",
           "ticks": "",
           "title": {
            "standoff": 15
           },
           "zerolinecolor": "white",
           "zerolinewidth": 2
          }
         }
        },
        "title": {
         "text": "Hyperparameters importances for LogisticRegression"
        },
        "xaxis": {
         "title": {
          "text": "Importance for f1_score"
         }
        },
        "yaxis": {
         "title": {
          "text": "Hyperparameter"
         }
        }
       }
      }
     },
     "metadata": {},
     "output_type": "display_data"
    }
   ],
   "source": [
    "# Visualization\n",
    "optuna.visualization.plot_param_importances(study_lr, target_name='f1_score') \\\n",
    "    .update_layout(title='Hyperparameters importances for LogisticRegression')"
   ]
  },
  {
   "cell_type": "code",
   "execution_count": 15,
   "metadata": {},
   "outputs": [
    {
     "name": "stderr",
     "output_type": "stream",
     "text": [
      "[I 2023-07-23 19:50:16,112] A new study created in memory with name: RandomForestClassifier\n",
      "[I 2023-07-23 19:50:37,556] Trial 0 finished with value: 0.8026043841809679 and parameters: {'n_estimators': 110, 'max_depth': 23, 'min_samples_leaf': 6}. Best is trial 0 with value: 0.8026043841809679.\n",
      "[I 2023-07-23 19:50:39,701] Trial 1 finished with value: 0.7588044656162667 and parameters: {'n_estimators': 290, 'max_depth': 5, 'min_samples_leaf': 10}. Best is trial 0 with value: 0.8026043841809679.\n",
      "[I 2023-07-23 19:50:41,140] Trial 6 finished with value: 0.808664043557938 and parameters: {'n_estimators': 110, 'max_depth': 30, 'min_samples_leaf': 4}. Best is trial 6 with value: 0.808664043557938.\n",
      "[I 2023-07-23 19:50:41,152] Trial 7 finished with value: 0.7545861880999781 and parameters: {'n_estimators': 180, 'max_depth': 5, 'min_samples_leaf': 7}. Best is trial 6 with value: 0.808664043557938.\n",
      "[I 2023-07-23 19:50:41,714] Trial 3 finished with value: 0.7982282551222528 and parameters: {'n_estimators': 280, 'max_depth': 13, 'min_samples_leaf': 8}. Best is trial 6 with value: 0.808664043557938.\n",
      "[I 2023-07-23 19:50:43,367] Trial 11 finished with value: 0.7963570065972752 and parameters: {'n_estimators': 210, 'max_depth': 28, 'min_samples_leaf': 9}. Best is trial 6 with value: 0.808664043557938.\n",
      "[I 2023-07-23 19:50:43,448] Trial 5 finished with value: 0.8035220537834389 and parameters: {'n_estimators': 230, 'max_depth': 22, 'min_samples_leaf': 6}. Best is trial 6 with value: 0.808664043557938.\n",
      "[I 2023-07-23 19:50:43,871] Trial 2 finished with value: 0.7991252858881857 and parameters: {'n_estimators': 300, 'max_depth': 20, 'min_samples_leaf': 10}. Best is trial 6 with value: 0.808664043557938.\n",
      "[I 2023-07-23 19:50:44,667] Trial 4 finished with value: 0.8041106872867033 and parameters: {'n_estimators': 300, 'max_depth': 28, 'min_samples_leaf': 5}. Best is trial 6 with value: 0.808664043557938.\n",
      "[I 2023-07-23 19:50:45,259] Trial 8 finished with value: 0.8110200923439225 and parameters: {'n_estimators': 270, 'max_depth': 28, 'min_samples_leaf': 3}. Best is trial 8 with value: 0.8110200923439225.\n",
      "[I 2023-07-23 19:50:45,535] Trial 9 finished with value: 0.79726335555528 and parameters: {'n_estimators': 260, 'max_depth': 15, 'min_samples_leaf': 10}. Best is trial 8 with value: 0.8110200923439225.\n",
      "[I 2023-07-23 19:50:46,796] Trial 12 finished with value: 0.786056015281222 and parameters: {'n_estimators': 230, 'max_depth': 8, 'min_samples_leaf': 8}. Best is trial 8 with value: 0.8110200923439225.\n",
      "[I 2023-07-23 19:50:47,444] Trial 10 finished with value: 0.8020629239979222 and parameters: {'n_estimators': 270, 'max_depth': 24, 'min_samples_leaf': 7}. Best is trial 8 with value: 0.8110200923439225.\n",
      "[I 2023-07-23 19:50:49,450] Trial 13 finished with value: 0.8028712798362883 and parameters: {'n_estimators': 180, 'max_depth': 29, 'min_samples_leaf': 8}. Best is trial 8 with value: 0.8110200923439225.\n",
      "[I 2023-07-23 19:50:51,841] Trial 14 finished with value: 0.8012267259126207 and parameters: {'n_estimators': 220, 'max_depth': 15, 'min_samples_leaf': 8}. Best is trial 8 with value: 0.8110200923439225.\n",
      "[I 2023-07-23 19:50:53,567] Trial 15 finished with value: 0.7895866900033669 and parameters: {'n_estimators': 290, 'max_depth': 9, 'min_samples_leaf': 8}. Best is trial 8 with value: 0.8110200923439225.\n",
      "[I 2023-07-23 19:50:56,609] Trial 17 finished with value: 0.7591629302167975 and parameters: {'n_estimators': 290, 'max_depth': 5, 'min_samples_leaf': 5}. Best is trial 8 with value: 0.8110200923439225.\n",
      "[I 2023-07-23 19:50:57,303] Trial 16 finished with value: 0.8112946145202601 and parameters: {'n_estimators': 250, 'max_depth': 15, 'min_samples_leaf': 3}. Best is trial 16 with value: 0.8112946145202601.\n",
      "[I 2023-07-23 19:50:58,080] Trial 18 finished with value: 0.796034925550042 and parameters: {'n_estimators': 110, 'max_depth': 24, 'min_samples_leaf': 10}. Best is trial 16 with value: 0.8112946145202601.\n",
      "[I 2023-07-23 19:51:00,607] Trial 19 finished with value: 0.8054852323217027 and parameters: {'n_estimators': 260, 'max_depth': 25, 'min_samples_leaf': 6}. Best is trial 16 with value: 0.8112946145202601.\n"
     ]
    },
    {
     "name": "stdout",
     "output_type": "stream",
     "text": [
      "Optuna best params on RandomForestClassifier: {'n_estimators': 250, 'max_depth': 15, 'min_samples_leaf': 3}\n",
      "F1-score, RandomForestClassifier trained on best Optuna parameters:\n",
      "Train sample: 0.96\n",
      "Test sample: 0.82\n"
     ]
    }
   ],
   "source": [
    "# RandomForestClassifier\n",
    "def optuna_rf(trial: optuna.trial.Trial) -> float:\n",
    "    \"\"\"Function fit RandomForestClassifier with set params\n",
    "    and return f1-score on cross-validation\n",
    "\n",
    "    Args:\n",
    "        trial (optuna.trial.Trial): A trial is a process of evaluating an objective function\n",
    "\n",
    "    Returns:\n",
    "        float: f1-score\n",
    "    \"\"\"\n",
    "    # Params\n",
    "    n_estimators = trial.suggest_int('n_estimators', 100, 300, step=10)\n",
    "    max_depth = trial.suggest_int('max_depth', 5, 30)\n",
    "    min_samples_leaf = trial.suggest_int('min_samples_leaf', 3, 10)\n",
    "    \n",
    "    model = ensemble.RandomForestClassifier(\n",
    "        n_estimators=n_estimators,\n",
    "        max_depth=max_depth,\n",
    "        min_samples_leaf=min_samples_leaf,\n",
    "        random_state=random_state\n",
    "    )\n",
    "    \n",
    "    score = model_selection.cross_val_score(\n",
    "        model,\n",
    "        X_train,\n",
    "        y_train,\n",
    "        cv=skf,\n",
    "        scoring='f1',\n",
    "        n_jobs=-1\n",
    "    )\n",
    "    \n",
    "    return score.mean()\n",
    "\n",
    "\n",
    "# Tuning\n",
    "study_rf = optuna.create_study(study_name='RandomForestClassifier', direction='maximize')\n",
    "study_rf.optimize(optuna_rf, n_trials=20, n_jobs=-1)\n",
    "\n",
    "# Modeling\n",
    "rf_optuna = ensemble.RandomForestClassifier(**study_rf.best_params, random_state=random_state)\n",
    "\n",
    "rf_optuna.fit(X_train, y_train)\n",
    "\n",
    "print('Optuna best params on RandomForestClassifier:', study_rf.best_params)\n",
    "print('F1-score, RandomForestClassifier trained on best Optuna parameters:')\n",
    "print('Train sample:', \\\n",
    "    metrics.f1_score(y_train, rf_optuna.predict(X_train)).round(2))\n",
    "print('Test sample:', \\\n",
    "    metrics.f1_score(y_test, rf_optuna.predict(X_test)).round(2))"
   ]
  },
  {
   "cell_type": "code",
   "execution_count": 23,
   "metadata": {},
   "outputs": [
    {
     "data": {
      "application/vnd.plotly.v1+json": {
       "config": {
        "plotlyServerURL": "https://plot.ly"
       },
       "data": [
        {
         "cliponaxis": false,
         "hovertemplate": [
          "n_estimators (IntDistribution): 0.014074111230363052<extra></extra>",
          "min_samples_leaf (IntDistribution): 0.13765029190212538<extra></extra>",
          "max_depth (IntDistribution): 0.8482755968675116<extra></extra>"
         ],
         "marker": {
          "color": "rgb(66,146,198)"
         },
         "orientation": "h",
         "text": [
          "0.01",
          "0.14",
          "0.85"
         ],
         "textposition": "outside",
         "type": "bar",
         "x": [
          0.014074111230363052,
          0.13765029190212538,
          0.8482755968675116
         ],
         "y": [
          "n_estimators",
          "min_samples_leaf",
          "max_depth"
         ]
        }
       ],
       "layout": {
        "showlegend": false,
        "template": {
         "data": {
          "bar": [
           {
            "error_x": {
             "color": "#2a3f5f"
            },
            "error_y": {
             "color": "#2a3f5f"
            },
            "marker": {
             "line": {
              "color": "#E5ECF6",
              "width": 0.5
             },
             "pattern": {
              "fillmode": "overlay",
              "size": 10,
              "solidity": 0.2
             }
            },
            "type": "bar"
           }
          ],
          "barpolar": [
           {
            "marker": {
             "line": {
              "color": "#E5ECF6",
              "width": 0.5
             },
             "pattern": {
              "fillmode": "overlay",
              "size": 10,
              "solidity": 0.2
             }
            },
            "type": "barpolar"
           }
          ],
          "carpet": [
           {
            "aaxis": {
             "endlinecolor": "#2a3f5f",
             "gridcolor": "white",
             "linecolor": "white",
             "minorgridcolor": "white",
             "startlinecolor": "#2a3f5f"
            },
            "baxis": {
             "endlinecolor": "#2a3f5f",
             "gridcolor": "white",
             "linecolor": "white",
             "minorgridcolor": "white",
             "startlinecolor": "#2a3f5f"
            },
            "type": "carpet"
           }
          ],
          "choropleth": [
           {
            "colorbar": {
             "outlinewidth": 0,
             "ticks": ""
            },
            "type": "choropleth"
           }
          ],
          "contour": [
           {
            "colorbar": {
             "outlinewidth": 0,
             "ticks": ""
            },
            "colorscale": [
             [
              0,
              "#0d0887"
             ],
             [
              0.1111111111111111,
              "#46039f"
             ],
             [
              0.2222222222222222,
              "#7201a8"
             ],
             [
              0.3333333333333333,
              "#9c179e"
             ],
             [
              0.4444444444444444,
              "#bd3786"
             ],
             [
              0.5555555555555556,
              "#d8576b"
             ],
             [
              0.6666666666666666,
              "#ed7953"
             ],
             [
              0.7777777777777778,
              "#fb9f3a"
             ],
             [
              0.8888888888888888,
              "#fdca26"
             ],
             [
              1,
              "#f0f921"
             ]
            ],
            "type": "contour"
           }
          ],
          "contourcarpet": [
           {
            "colorbar": {
             "outlinewidth": 0,
             "ticks": ""
            },
            "type": "contourcarpet"
           }
          ],
          "heatmap": [
           {
            "colorbar": {
             "outlinewidth": 0,
             "ticks": ""
            },
            "colorscale": [
             [
              0,
              "#0d0887"
             ],
             [
              0.1111111111111111,
              "#46039f"
             ],
             [
              0.2222222222222222,
              "#7201a8"
             ],
             [
              0.3333333333333333,
              "#9c179e"
             ],
             [
              0.4444444444444444,
              "#bd3786"
             ],
             [
              0.5555555555555556,
              "#d8576b"
             ],
             [
              0.6666666666666666,
              "#ed7953"
             ],
             [
              0.7777777777777778,
              "#fb9f3a"
             ],
             [
              0.8888888888888888,
              "#fdca26"
             ],
             [
              1,
              "#f0f921"
             ]
            ],
            "type": "heatmap"
           }
          ],
          "heatmapgl": [
           {
            "colorbar": {
             "outlinewidth": 0,
             "ticks": ""
            },
            "colorscale": [
             [
              0,
              "#0d0887"
             ],
             [
              0.1111111111111111,
              "#46039f"
             ],
             [
              0.2222222222222222,
              "#7201a8"
             ],
             [
              0.3333333333333333,
              "#9c179e"
             ],
             [
              0.4444444444444444,
              "#bd3786"
             ],
             [
              0.5555555555555556,
              "#d8576b"
             ],
             [
              0.6666666666666666,
              "#ed7953"
             ],
             [
              0.7777777777777778,
              "#fb9f3a"
             ],
             [
              0.8888888888888888,
              "#fdca26"
             ],
             [
              1,
              "#f0f921"
             ]
            ],
            "type": "heatmapgl"
           }
          ],
          "histogram": [
           {
            "marker": {
             "pattern": {
              "fillmode": "overlay",
              "size": 10,
              "solidity": 0.2
             }
            },
            "type": "histogram"
           }
          ],
          "histogram2d": [
           {
            "colorbar": {
             "outlinewidth": 0,
             "ticks": ""
            },
            "colorscale": [
             [
              0,
              "#0d0887"
             ],
             [
              0.1111111111111111,
              "#46039f"
             ],
             [
              0.2222222222222222,
              "#7201a8"
             ],
             [
              0.3333333333333333,
              "#9c179e"
             ],
             [
              0.4444444444444444,
              "#bd3786"
             ],
             [
              0.5555555555555556,
              "#d8576b"
             ],
             [
              0.6666666666666666,
              "#ed7953"
             ],
             [
              0.7777777777777778,
              "#fb9f3a"
             ],
             [
              0.8888888888888888,
              "#fdca26"
             ],
             [
              1,
              "#f0f921"
             ]
            ],
            "type": "histogram2d"
           }
          ],
          "histogram2dcontour": [
           {
            "colorbar": {
             "outlinewidth": 0,
             "ticks": ""
            },
            "colorscale": [
             [
              0,
              "#0d0887"
             ],
             [
              0.1111111111111111,
              "#46039f"
             ],
             [
              0.2222222222222222,
              "#7201a8"
             ],
             [
              0.3333333333333333,
              "#9c179e"
             ],
             [
              0.4444444444444444,
              "#bd3786"
             ],
             [
              0.5555555555555556,
              "#d8576b"
             ],
             [
              0.6666666666666666,
              "#ed7953"
             ],
             [
              0.7777777777777778,
              "#fb9f3a"
             ],
             [
              0.8888888888888888,
              "#fdca26"
             ],
             [
              1,
              "#f0f921"
             ]
            ],
            "type": "histogram2dcontour"
           }
          ],
          "mesh3d": [
           {
            "colorbar": {
             "outlinewidth": 0,
             "ticks": ""
            },
            "type": "mesh3d"
           }
          ],
          "parcoords": [
           {
            "line": {
             "colorbar": {
              "outlinewidth": 0,
              "ticks": ""
             }
            },
            "type": "parcoords"
           }
          ],
          "pie": [
           {
            "automargin": true,
            "type": "pie"
           }
          ],
          "scatter": [
           {
            "fillpattern": {
             "fillmode": "overlay",
             "size": 10,
             "solidity": 0.2
            },
            "type": "scatter"
           }
          ],
          "scatter3d": [
           {
            "line": {
             "colorbar": {
              "outlinewidth": 0,
              "ticks": ""
             }
            },
            "marker": {
             "colorbar": {
              "outlinewidth": 0,
              "ticks": ""
             }
            },
            "type": "scatter3d"
           }
          ],
          "scattercarpet": [
           {
            "marker": {
             "colorbar": {
              "outlinewidth": 0,
              "ticks": ""
             }
            },
            "type": "scattercarpet"
           }
          ],
          "scattergeo": [
           {
            "marker": {
             "colorbar": {
              "outlinewidth": 0,
              "ticks": ""
             }
            },
            "type": "scattergeo"
           }
          ],
          "scattergl": [
           {
            "marker": {
             "colorbar": {
              "outlinewidth": 0,
              "ticks": ""
             }
            },
            "type": "scattergl"
           }
          ],
          "scattermapbox": [
           {
            "marker": {
             "colorbar": {
              "outlinewidth": 0,
              "ticks": ""
             }
            },
            "type": "scattermapbox"
           }
          ],
          "scatterpolar": [
           {
            "marker": {
             "colorbar": {
              "outlinewidth": 0,
              "ticks": ""
             }
            },
            "type": "scatterpolar"
           }
          ],
          "scatterpolargl": [
           {
            "marker": {
             "colorbar": {
              "outlinewidth": 0,
              "ticks": ""
             }
            },
            "type": "scatterpolargl"
           }
          ],
          "scatterternary": [
           {
            "marker": {
             "colorbar": {
              "outlinewidth": 0,
              "ticks": ""
             }
            },
            "type": "scatterternary"
           }
          ],
          "surface": [
           {
            "colorbar": {
             "outlinewidth": 0,
             "ticks": ""
            },
            "colorscale": [
             [
              0,
              "#0d0887"
             ],
             [
              0.1111111111111111,
              "#46039f"
             ],
             [
              0.2222222222222222,
              "#7201a8"
             ],
             [
              0.3333333333333333,
              "#9c179e"
             ],
             [
              0.4444444444444444,
              "#bd3786"
             ],
             [
              0.5555555555555556,
              "#d8576b"
             ],
             [
              0.6666666666666666,
              "#ed7953"
             ],
             [
              0.7777777777777778,
              "#fb9f3a"
             ],
             [
              0.8888888888888888,
              "#fdca26"
             ],
             [
              1,
              "#f0f921"
             ]
            ],
            "type": "surface"
           }
          ],
          "table": [
           {
            "cells": {
             "fill": {
              "color": "#EBF0F8"
             },
             "line": {
              "color": "white"
             }
            },
            "header": {
             "fill": {
              "color": "#C8D4E3"
             },
             "line": {
              "color": "white"
             }
            },
            "type": "table"
           }
          ]
         },
         "layout": {
          "annotationdefaults": {
           "arrowcolor": "#2a3f5f",
           "arrowhead": 0,
           "arrowwidth": 1
          },
          "autotypenumbers": "strict",
          "coloraxis": {
           "colorbar": {
            "outlinewidth": 0,
            "ticks": ""
           }
          },
          "colorscale": {
           "diverging": [
            [
             0,
             "#8e0152"
            ],
            [
             0.1,
             "#c51b7d"
            ],
            [
             0.2,
             "#de77ae"
            ],
            [
             0.3,
             "#f1b6da"
            ],
            [
             0.4,
             "#fde0ef"
            ],
            [
             0.5,
             "#f7f7f7"
            ],
            [
             0.6,
             "#e6f5d0"
            ],
            [
             0.7,
             "#b8e186"
            ],
            [
             0.8,
             "#7fbc41"
            ],
            [
             0.9,
             "#4d9221"
            ],
            [
             1,
             "#276419"
            ]
           ],
           "sequential": [
            [
             0,
             "#0d0887"
            ],
            [
             0.1111111111111111,
             "#46039f"
            ],
            [
             0.2222222222222222,
             "#7201a8"
            ],
            [
             0.3333333333333333,
             "#9c179e"
            ],
            [
             0.4444444444444444,
             "#bd3786"
            ],
            [
             0.5555555555555556,
             "#d8576b"
            ],
            [
             0.6666666666666666,
             "#ed7953"
            ],
            [
             0.7777777777777778,
             "#fb9f3a"
            ],
            [
             0.8888888888888888,
             "#fdca26"
            ],
            [
             1,
             "#f0f921"
            ]
           ],
           "sequentialminus": [
            [
             0,
             "#0d0887"
            ],
            [
             0.1111111111111111,
             "#46039f"
            ],
            [
             0.2222222222222222,
             "#7201a8"
            ],
            [
             0.3333333333333333,
             "#9c179e"
            ],
            [
             0.4444444444444444,
             "#bd3786"
            ],
            [
             0.5555555555555556,
             "#d8576b"
            ],
            [
             0.6666666666666666,
             "#ed7953"
            ],
            [
             0.7777777777777778,
             "#fb9f3a"
            ],
            [
             0.8888888888888888,
             "#fdca26"
            ],
            [
             1,
             "#f0f921"
            ]
           ]
          },
          "colorway": [
           "#636efa",
           "#EF553B",
           "#00cc96",
           "#ab63fa",
           "#FFA15A",
           "#19d3f3",
           "#FF6692",
           "#B6E880",
           "#FF97FF",
           "#FECB52"
          ],
          "font": {
           "color": "#2a3f5f"
          },
          "geo": {
           "bgcolor": "white",
           "lakecolor": "white",
           "landcolor": "#E5ECF6",
           "showlakes": true,
           "showland": true,
           "subunitcolor": "white"
          },
          "hoverlabel": {
           "align": "left"
          },
          "hovermode": "closest",
          "mapbox": {
           "style": "light"
          },
          "paper_bgcolor": "white",
          "plot_bgcolor": "#E5ECF6",
          "polar": {
           "angularaxis": {
            "gridcolor": "white",
            "linecolor": "white",
            "ticks": ""
           },
           "bgcolor": "#E5ECF6",
           "radialaxis": {
            "gridcolor": "white",
            "linecolor": "white",
            "ticks": ""
           }
          },
          "scene": {
           "xaxis": {
            "backgroundcolor": "#E5ECF6",
            "gridcolor": "white",
            "gridwidth": 2,
            "linecolor": "white",
            "showbackground": true,
            "ticks": "",
            "zerolinecolor": "white"
           },
           "yaxis": {
            "backgroundcolor": "#E5ECF6",
            "gridcolor": "white",
            "gridwidth": 2,
            "linecolor": "white",
            "showbackground": true,
            "ticks": "",
            "zerolinecolor": "white"
           },
           "zaxis": {
            "backgroundcolor": "#E5ECF6",
            "gridcolor": "white",
            "gridwidth": 2,
            "linecolor": "white",
            "showbackground": true,
            "ticks": "",
            "zerolinecolor": "white"
           }
          },
          "shapedefaults": {
           "line": {
            "color": "#2a3f5f"
           }
          },
          "ternary": {
           "aaxis": {
            "gridcolor": "white",
            "linecolor": "white",
            "ticks": ""
           },
           "baxis": {
            "gridcolor": "white",
            "linecolor": "white",
            "ticks": ""
           },
           "bgcolor": "#E5ECF6",
           "caxis": {
            "gridcolor": "white",
            "linecolor": "white",
            "ticks": ""
           }
          },
          "title": {
           "x": 0.05
          },
          "xaxis": {
           "automargin": true,
           "gridcolor": "white",
           "linecolor": "white",
           "ticks": "",
           "title": {
            "standoff": 15
           },
           "zerolinecolor": "white",
           "zerolinewidth": 2
          },
          "yaxis": {
           "automargin": true,
           "gridcolor": "white",
           "linecolor": "white",
           "ticks": "",
           "title": {
            "standoff": 15
           },
           "zerolinecolor": "white",
           "zerolinewidth": 2
          }
         }
        },
        "title": {
         "text": "Hyperparameters importances for RandomForestClassifier"
        },
        "xaxis": {
         "title": {
          "text": "Importance for f1_score"
         }
        },
        "yaxis": {
         "title": {
          "text": "Hyperparameter"
         }
        }
       }
      }
     },
     "metadata": {},
     "output_type": "display_data"
    }
   ],
   "source": [
    "# Visualization\n",
    "optuna.visualization.plot_param_importances(study_rf, target_name='f1_score') \\\n",
    "    .update_layout(title='Hyperparameters importances for RandomForestClassifier')"
   ]
  },
  {
   "attachments": {},
   "cell_type": "markdown",
   "metadata": {},
   "source": [
    "### **Conclusion:** there are various ways to select hyperparameters of models, and of the four options considered, the Optuna library turned out to be the fastest and most convenient tool, which also provides a built-in visualization of various characteristics (the paper presents graphs of the importance of hyperparameters for building a model). RandomizedSearchCV and Hyperopt also work quite fast, while the first option considers random combinations of hyperparameter groups without taking into account previous results, so this method is less preferable, as is GridSearchCV (which is the most resource-intensive and time-consuming)."
   ]
  }
 ],
 "metadata": {
  "kernelspec": {
   "display_name": "Python 3",
   "language": "python",
   "name": "python3"
  },
  "language_info": {
   "codemirror_mode": {
    "name": "ipython",
    "version": 3
   },
   "file_extension": ".py",
   "mimetype": "text/x-python",
   "name": "python",
   "nbconvert_exporter": "python",
   "pygments_lexer": "ipython3",
   "version": "3.11.1 (tags/v3.11.1:a7a450f, Dec  6 2022, 19:58:39) [MSC v.1934 64 bit (AMD64)]"
  },
  "orig_nbformat": 4,
  "vscode": {
   "interpreter": {
    "hash": "52634da84371cba311ea128a5ea7cdc41ff074b781779e754b270ff9f8153cee"
   }
  }
 },
 "nbformat": 4,
 "nbformat_minor": 2
}
